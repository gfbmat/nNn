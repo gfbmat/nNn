{
 "cells": [
  {
   "cell_type": "markdown",
   "id": "cceac0d0-8769-4632-b8b2-d37f46d66b72",
   "metadata": {},
   "source": [
    "In this notebook, Data Science Tools and Ecosystem are summarized."
   ]
  },
  {
   "cell_type": "markdown",
   "id": "647fd721-29ee-4fa9-afb6-35e4994063b4",
   "metadata": {},
   "source": [
    "<b> Objectives:</b>"
   ]
  },
  {
   "cell_type": "markdown",
   "id": "6ad2d736-9af1-4fbf-8f4e-0666fbb0b5f4",
   "metadata": {},
   "source": [
    "Popular Languages for Data Science\n",
    "* Python\n",
    "* R Studio\n",
    "* Scala"
   ]
  },
  {
   "cell_type": "code",
   "execution_count": null,
   "id": "c86dd006-b022-4841-a4e5-2c4a8dcb33a7",
   "metadata": {},
   "outputs": [],
   "source": []
  }
 ],
 "metadata": {
  "kernelspec": {
   "display_name": "Python 3 (ipykernel)",
   "language": "python",
   "name": "python3"
  },
  "language_info": {
   "codemirror_mode": {
    "name": "ipython",
    "version": 3
   },
   "file_extension": ".py",
   "mimetype": "text/x-python",
   "name": "python",
   "nbconvert_exporter": "python",
   "pygments_lexer": "ipython3",
   "version": "3.12.4"
  }
 },
 "nbformat": 4,
 "nbformat_minor": 5
}
